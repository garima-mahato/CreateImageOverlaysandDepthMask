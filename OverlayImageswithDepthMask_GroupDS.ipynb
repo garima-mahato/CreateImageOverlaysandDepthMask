{
  "nbformat": 4,
  "nbformat_minor": 0,
  "metadata": {
    "colab": {
      "name": "OverlayImageswithDepthMask_GroupDS",
      "provenance": [],
      "collapsed_sections": [],
      "machine_shape": "hm",
      "include_colab_link": true
    },
    "kernelspec": {
      "name": "python3",
      "display_name": "Python 3"
    },
    "accelerator": "GPU",
    "widgets": {
      "application/vnd.jupyter.widget-state+json": {
        "b2a5feeccb00431393146ef3d84d7946": {
          "model_module": "@jupyter-widgets/controls",
          "model_name": "HBoxModel",
          "state": {
            "_view_name": "HBoxView",
            "_dom_classes": [],
            "_model_name": "HBoxModel",
            "_view_module": "@jupyter-widgets/controls",
            "_model_module_version": "1.5.0",
            "_view_count": null,
            "_view_module_version": "1.5.0",
            "box_style": "",
            "layout": "IPY_MODEL_0af530b2d2c04565b9590a786a3f1368",
            "_model_module": "@jupyter-widgets/controls",
            "children": [
              "IPY_MODEL_92bf6193dd1e4f97be114acca36f265f",
              "IPY_MODEL_1556b4cc624542cfbcdf0c6c40a644a0"
            ]
          }
        },
        "0af530b2d2c04565b9590a786a3f1368": {
          "model_module": "@jupyter-widgets/base",
          "model_name": "LayoutModel",
          "state": {
            "_view_name": "LayoutView",
            "grid_template_rows": null,
            "right": null,
            "justify_content": null,
            "_view_module": "@jupyter-widgets/base",
            "overflow": null,
            "_model_module_version": "1.2.0",
            "_view_count": null,
            "flex_flow": null,
            "width": null,
            "min_width": null,
            "border": null,
            "align_items": null,
            "bottom": null,
            "_model_module": "@jupyter-widgets/base",
            "top": null,
            "grid_column": null,
            "overflow_y": null,
            "overflow_x": null,
            "grid_auto_flow": null,
            "grid_area": null,
            "grid_template_columns": null,
            "flex": null,
            "_model_name": "LayoutModel",
            "justify_items": null,
            "grid_row": null,
            "max_height": null,
            "align_content": null,
            "visibility": null,
            "align_self": null,
            "height": null,
            "min_height": null,
            "padding": null,
            "grid_auto_rows": null,
            "grid_gap": null,
            "max_width": null,
            "order": null,
            "_view_module_version": "1.2.0",
            "grid_template_areas": null,
            "object_position": null,
            "object_fit": null,
            "grid_auto_columns": null,
            "margin": null,
            "display": null,
            "left": null
          }
        },
        "92bf6193dd1e4f97be114acca36f265f": {
          "model_module": "@jupyter-widgets/controls",
          "model_name": "IntProgressModel",
          "state": {
            "_view_name": "ProgressView",
            "style": "IPY_MODEL_f716bc9c57b141239bb6766e5346d9c2",
            "_dom_classes": [],
            "description": "  0%",
            "_model_name": "IntProgressModel",
            "bar_style": "",
            "max": 1,
            "_view_module": "@jupyter-widgets/controls",
            "_model_module_version": "1.5.0",
            "value": 0,
            "_view_count": null,
            "_view_module_version": "1.5.0",
            "orientation": "horizontal",
            "min": 0,
            "description_tooltip": null,
            "_model_module": "@jupyter-widgets/controls",
            "layout": "IPY_MODEL_7ec437ff20604da087473a90711a2c9a"
          }
        },
        "1556b4cc624542cfbcdf0c6c40a644a0": {
          "model_module": "@jupyter-widgets/controls",
          "model_name": "HTMLModel",
          "state": {
            "_view_name": "HTMLView",
            "style": "IPY_MODEL_768fc761fc0e451484bb294e1636e30a",
            "_dom_classes": [],
            "description": "",
            "_model_name": "HTMLModel",
            "placeholder": "​",
            "_view_module": "@jupyter-widgets/controls",
            "_model_module_version": "1.5.0",
            "value": " 0/1 [00:00&lt;?, ?it/s]",
            "_view_count": null,
            "_view_module_version": "1.5.0",
            "description_tooltip": null,
            "_model_module": "@jupyter-widgets/controls",
            "layout": "IPY_MODEL_6731f2fa044e4c758a85eb9768e1e5b8"
          }
        },
        "f716bc9c57b141239bb6766e5346d9c2": {
          "model_module": "@jupyter-widgets/controls",
          "model_name": "ProgressStyleModel",
          "state": {
            "_view_name": "StyleView",
            "_model_name": "ProgressStyleModel",
            "description_width": "initial",
            "_view_module": "@jupyter-widgets/base",
            "_model_module_version": "1.5.0",
            "_view_count": null,
            "_view_module_version": "1.2.0",
            "bar_color": null,
            "_model_module": "@jupyter-widgets/controls"
          }
        },
        "7ec437ff20604da087473a90711a2c9a": {
          "model_module": "@jupyter-widgets/base",
          "model_name": "LayoutModel",
          "state": {
            "_view_name": "LayoutView",
            "grid_template_rows": null,
            "right": null,
            "justify_content": null,
            "_view_module": "@jupyter-widgets/base",
            "overflow": null,
            "_model_module_version": "1.2.0",
            "_view_count": null,
            "flex_flow": null,
            "width": null,
            "min_width": null,
            "border": null,
            "align_items": null,
            "bottom": null,
            "_model_module": "@jupyter-widgets/base",
            "top": null,
            "grid_column": null,
            "overflow_y": null,
            "overflow_x": null,
            "grid_auto_flow": null,
            "grid_area": null,
            "grid_template_columns": null,
            "flex": null,
            "_model_name": "LayoutModel",
            "justify_items": null,
            "grid_row": null,
            "max_height": null,
            "align_content": null,
            "visibility": null,
            "align_self": null,
            "height": null,
            "min_height": null,
            "padding": null,
            "grid_auto_rows": null,
            "grid_gap": null,
            "max_width": null,
            "order": null,
            "_view_module_version": "1.2.0",
            "grid_template_areas": null,
            "object_position": null,
            "object_fit": null,
            "grid_auto_columns": null,
            "margin": null,
            "display": null,
            "left": null
          }
        },
        "768fc761fc0e451484bb294e1636e30a": {
          "model_module": "@jupyter-widgets/controls",
          "model_name": "DescriptionStyleModel",
          "state": {
            "_view_name": "StyleView",
            "_model_name": "DescriptionStyleModel",
            "description_width": "",
            "_view_module": "@jupyter-widgets/base",
            "_model_module_version": "1.5.0",
            "_view_count": null,
            "_view_module_version": "1.2.0",
            "_model_module": "@jupyter-widgets/controls"
          }
        },
        "6731f2fa044e4c758a85eb9768e1e5b8": {
          "model_module": "@jupyter-widgets/base",
          "model_name": "LayoutModel",
          "state": {
            "_view_name": "LayoutView",
            "grid_template_rows": null,
            "right": null,
            "justify_content": null,
            "_view_module": "@jupyter-widgets/base",
            "overflow": null,
            "_model_module_version": "1.2.0",
            "_view_count": null,
            "flex_flow": null,
            "width": null,
            "min_width": null,
            "border": null,
            "align_items": null,
            "bottom": null,
            "_model_module": "@jupyter-widgets/base",
            "top": null,
            "grid_column": null,
            "overflow_y": null,
            "overflow_x": null,
            "grid_auto_flow": null,
            "grid_area": null,
            "grid_template_columns": null,
            "flex": null,
            "_model_name": "LayoutModel",
            "justify_items": null,
            "grid_row": null,
            "max_height": null,
            "align_content": null,
            "visibility": null,
            "align_self": null,
            "height": null,
            "min_height": null,
            "padding": null,
            "grid_auto_rows": null,
            "grid_gap": null,
            "max_width": null,
            "order": null,
            "_view_module_version": "1.2.0",
            "grid_template_areas": null,
            "object_position": null,
            "object_fit": null,
            "grid_auto_columns": null,
            "margin": null,
            "display": null,
            "left": null
          }
        },
        "6fea4289fa37400da3e05bac67aa9cca": {
          "model_module": "@jupyter-widgets/controls",
          "model_name": "HBoxModel",
          "state": {
            "_view_name": "HBoxView",
            "_dom_classes": [],
            "_model_name": "HBoxModel",
            "_view_module": "@jupyter-widgets/controls",
            "_model_module_version": "1.5.0",
            "_view_count": null,
            "_view_module_version": "1.5.0",
            "box_style": "",
            "layout": "IPY_MODEL_7d2013c8bc864ecbaaa2e84f682e68ee",
            "_model_module": "@jupyter-widgets/controls",
            "children": [
              "IPY_MODEL_b3703f8fe9904c52bd400f130ef551a1",
              "IPY_MODEL_1e1358cd713e4ef7a69d6d0a995d721f"
            ]
          }
        },
        "7d2013c8bc864ecbaaa2e84f682e68ee": {
          "model_module": "@jupyter-widgets/base",
          "model_name": "LayoutModel",
          "state": {
            "_view_name": "LayoutView",
            "grid_template_rows": null,
            "right": null,
            "justify_content": null,
            "_view_module": "@jupyter-widgets/base",
            "overflow": null,
            "_model_module_version": "1.2.0",
            "_view_count": null,
            "flex_flow": null,
            "width": null,
            "min_width": null,
            "border": null,
            "align_items": null,
            "bottom": null,
            "_model_module": "@jupyter-widgets/base",
            "top": null,
            "grid_column": null,
            "overflow_y": null,
            "overflow_x": null,
            "grid_auto_flow": null,
            "grid_area": null,
            "grid_template_columns": null,
            "flex": null,
            "_model_name": "LayoutModel",
            "justify_items": null,
            "grid_row": null,
            "max_height": null,
            "align_content": null,
            "visibility": null,
            "align_self": null,
            "height": null,
            "min_height": null,
            "padding": null,
            "grid_auto_rows": null,
            "grid_gap": null,
            "max_width": null,
            "order": null,
            "_view_module_version": "1.2.0",
            "grid_template_areas": null,
            "object_position": null,
            "object_fit": null,
            "grid_auto_columns": null,
            "margin": null,
            "display": null,
            "left": null
          }
        },
        "b3703f8fe9904c52bd400f130ef551a1": {
          "model_module": "@jupyter-widgets/controls",
          "model_name": "IntProgressModel",
          "state": {
            "_view_name": "ProgressView",
            "style": "IPY_MODEL_ef6a4c46275442be9aa275ee5a4dd37e",
            "_dom_classes": [],
            "description": " 90%",
            "_model_name": "IntProgressModel",
            "bar_style": "",
            "max": 100,
            "_view_module": "@jupyter-widgets/controls",
            "_model_module_version": "1.5.0",
            "value": 90,
            "_view_count": null,
            "_view_module_version": "1.5.0",
            "orientation": "horizontal",
            "min": 0,
            "description_tooltip": null,
            "_model_module": "@jupyter-widgets/controls",
            "layout": "IPY_MODEL_4d0a201a71d640128a3593071af41a62"
          }
        },
        "1e1358cd713e4ef7a69d6d0a995d721f": {
          "model_module": "@jupyter-widgets/controls",
          "model_name": "HTMLModel",
          "state": {
            "_view_name": "HTMLView",
            "style": "IPY_MODEL_7281b6ed0a3f440d938b647a9f5ac815",
            "_dom_classes": [],
            "description": "",
            "_model_name": "HTMLModel",
            "placeholder": "​",
            "_view_module": "@jupyter-widgets/controls",
            "_model_module_version": "1.5.0",
            "value": " 90/100 [47:21&lt;04:53, 29.35s/it]",
            "_view_count": null,
            "_view_module_version": "1.5.0",
            "description_tooltip": null,
            "_model_module": "@jupyter-widgets/controls",
            "layout": "IPY_MODEL_1ad05e45aade4a90a5e25ece9fd8eb91"
          }
        },
        "ef6a4c46275442be9aa275ee5a4dd37e": {
          "model_module": "@jupyter-widgets/controls",
          "model_name": "ProgressStyleModel",
          "state": {
            "_view_name": "StyleView",
            "_model_name": "ProgressStyleModel",
            "description_width": "initial",
            "_view_module": "@jupyter-widgets/base",
            "_model_module_version": "1.5.0",
            "_view_count": null,
            "_view_module_version": "1.2.0",
            "bar_color": null,
            "_model_module": "@jupyter-widgets/controls"
          }
        },
        "4d0a201a71d640128a3593071af41a62": {
          "model_module": "@jupyter-widgets/base",
          "model_name": "LayoutModel",
          "state": {
            "_view_name": "LayoutView",
            "grid_template_rows": null,
            "right": null,
            "justify_content": null,
            "_view_module": "@jupyter-widgets/base",
            "overflow": null,
            "_model_module_version": "1.2.0",
            "_view_count": null,
            "flex_flow": null,
            "width": null,
            "min_width": null,
            "border": null,
            "align_items": null,
            "bottom": null,
            "_model_module": "@jupyter-widgets/base",
            "top": null,
            "grid_column": null,
            "overflow_y": null,
            "overflow_x": null,
            "grid_auto_flow": null,
            "grid_area": null,
            "grid_template_columns": null,
            "flex": null,
            "_model_name": "LayoutModel",
            "justify_items": null,
            "grid_row": null,
            "max_height": null,
            "align_content": null,
            "visibility": null,
            "align_self": null,
            "height": null,
            "min_height": null,
            "padding": null,
            "grid_auto_rows": null,
            "grid_gap": null,
            "max_width": null,
            "order": null,
            "_view_module_version": "1.2.0",
            "grid_template_areas": null,
            "object_position": null,
            "object_fit": null,
            "grid_auto_columns": null,
            "margin": null,
            "display": null,
            "left": null
          }
        },
        "7281b6ed0a3f440d938b647a9f5ac815": {
          "model_module": "@jupyter-widgets/controls",
          "model_name": "DescriptionStyleModel",
          "state": {
            "_view_name": "StyleView",
            "_model_name": "DescriptionStyleModel",
            "description_width": "",
            "_view_module": "@jupyter-widgets/base",
            "_model_module_version": "1.5.0",
            "_view_count": null,
            "_view_module_version": "1.2.0",
            "_model_module": "@jupyter-widgets/controls"
          }
        },
        "1ad05e45aade4a90a5e25ece9fd8eb91": {
          "model_module": "@jupyter-widgets/base",
          "model_name": "LayoutModel",
          "state": {
            "_view_name": "LayoutView",
            "grid_template_rows": null,
            "right": null,
            "justify_content": null,
            "_view_module": "@jupyter-widgets/base",
            "overflow": null,
            "_model_module_version": "1.2.0",
            "_view_count": null,
            "flex_flow": null,
            "width": null,
            "min_width": null,
            "border": null,
            "align_items": null,
            "bottom": null,
            "_model_module": "@jupyter-widgets/base",
            "top": null,
            "grid_column": null,
            "overflow_y": null,
            "overflow_x": null,
            "grid_auto_flow": null,
            "grid_area": null,
            "grid_template_columns": null,
            "flex": null,
            "_model_name": "LayoutModel",
            "justify_items": null,
            "grid_row": null,
            "max_height": null,
            "align_content": null,
            "visibility": null,
            "align_self": null,
            "height": null,
            "min_height": null,
            "padding": null,
            "grid_auto_rows": null,
            "grid_gap": null,
            "max_width": null,
            "order": null,
            "_view_module_version": "1.2.0",
            "grid_template_areas": null,
            "object_position": null,
            "object_fit": null,
            "grid_auto_columns": null,
            "margin": null,
            "display": null,
            "left": null
          }
        }
      }
    }
  },
  "cells": [
    {
      "cell_type": "markdown",
      "metadata": {
        "id": "view-in-github",
        "colab_type": "text"
      },
      "source": [
        "<a href=\"https://colab.research.google.com/github/csharpshooter/CreateImageOverlaysandDepthMask/blob/master/OverlayImageswithDepthMask_GroupDS.ipynb\" target=\"_parent\"><img src=\"https://colab.research.google.com/assets/colab-badge.svg\" alt=\"Open In Colab\"/></a>"
      ]
    },
    {
      "cell_type": "code",
      "metadata": {
        "id": "IEKQQ1xBllYf",
        "colab_type": "code",
        "outputId": "44f8c25a-c7ce-4529-96f3-37fdafd42566",
        "colab": {
          "base_uri": "https://localhost:8080/",
          "height": 127
        }
      },
      "source": [
        "from google.colab import drive\n",
        "drive.mount('/content/gdrive')"
      ],
      "execution_count": 1,
      "outputs": [
        {
          "output_type": "stream",
          "text": [
            "Go to this URL in a browser: https://accounts.google.com/o/oauth2/auth?client_id=947318989803-6bn6qk8qdgf4n4g3pfee6491hc0brc4i.apps.googleusercontent.com&redirect_uri=urn%3aietf%3awg%3aoauth%3a2.0%3aoob&response_type=code&scope=email%20https%3a%2f%2fwww.googleapis.com%2fauth%2fdocs.test%20https%3a%2f%2fwww.googleapis.com%2fauth%2fdrive%20https%3a%2f%2fwww.googleapis.com%2fauth%2fdrive.photos.readonly%20https%3a%2f%2fwww.googleapis.com%2fauth%2fpeopleapi.readonly\n",
            "\n",
            "Enter your authorization code:\n",
            "··········\n",
            "Mounted at /content/gdrive\n"
          ],
          "name": "stdout"
        }
      ]
    },
    {
      "cell_type": "code",
      "metadata": {
        "id": "bn9EnaNApX6q",
        "colab_type": "code",
        "colab": {}
      },
      "source": [
        "# !pip uninstall pillow"
      ],
      "execution_count": 0,
      "outputs": []
    },
    {
      "cell_type": "code",
      "metadata": {
        "id": "7-F92UaDpmm4",
        "colab_type": "code",
        "colab": {}
      },
      "source": [
        "# pip install Pillow==6.0.0"
      ],
      "execution_count": 0,
      "outputs": []
    },
    {
      "cell_type": "code",
      "metadata": {
        "id": "1oeXUPXwllKI",
        "colab_type": "code",
        "outputId": "151a2a20-c178-403f-e32d-11574a6aa476",
        "colab": {
          "base_uri": "https://localhost:8080/",
          "height": 125
        }
      },
      "source": [
        "!git clone https://github.com/csharpshooter/CreateImageOverlaysandDepthMask.git"
      ],
      "execution_count": 2,
      "outputs": [
        {
          "output_type": "stream",
          "text": [
            "Cloning into 'CreateImageOverlaysandDepthMask'...\n",
            "remote: Enumerating objects: 36, done.\u001b[K\n",
            "remote: Counting objects:   2% (1/36)\u001b[K\rremote: Counting objects:   5% (2/36)\u001b[K\rremote: Counting objects:   8% (3/36)\u001b[K\rremote: Counting objects:  11% (4/36)\u001b[K\rremote: Counting objects:  13% (5/36)\u001b[K\rremote: Counting objects:  16% (6/36)\u001b[K\rremote: Counting objects:  19% (7/36)\u001b[K\rremote: Counting objects:  22% (8/36)\u001b[K\rremote: Counting objects:  25% (9/36)\u001b[K\rremote: Counting objects:  27% (10/36)\u001b[K\rremote: Counting objects:  30% (11/36)\u001b[K\rremote: Counting objects:  33% (12/36)\u001b[K\rremote: Counting objects:  36% (13/36)\u001b[K\rremote: Counting objects:  38% (14/36)\u001b[K\rremote: Counting objects:  41% (15/36)\u001b[K\rremote: Counting objects:  44% (16/36)\u001b[K\rremote: Counting objects:  47% (17/36)\u001b[K\rremote: Counting objects:  50% (18/36)\u001b[K\rremote: Counting objects:  52% (19/36)\u001b[K\rremote: Counting objects:  55% (20/36)\u001b[K\rremote: Counting objects:  58% (21/36)\u001b[K\rremote: Counting objects:  61% (22/36)\u001b[K\rremote: Counting objects:  63% (23/36)\u001b[K\rremote: Counting objects:  66% (24/36)\u001b[K\rremote: Counting objects:  69% (25/36)\u001b[K\rremote: Counting objects:  72% (26/36)\u001b[K\rremote: Counting objects:  75% (27/36)\u001b[K\rremote: Counting objects:  77% (28/36)\u001b[K\rremote: Counting objects:  80% (29/36)\u001b[K\rremote: Counting objects:  83% (30/36)\u001b[K\rremote: Counting objects:  86% (31/36)\u001b[K\rremote: Counting objects:  88% (32/36)\u001b[K\rremote: Counting objects:  91% (33/36)\u001b[K\rremote: Counting objects:  94% (34/36)\u001b[K\rremote: Counting objects:  97% (35/36)\u001b[K\rremote: Counting objects: 100% (36/36)\u001b[K\rremote: Counting objects: 100% (36/36), done.\u001b[K\n",
            "remote: Compressing objects:   3% (1/30)\u001b[K\rremote: Compressing objects:   6% (2/30)\u001b[K\rremote: Compressing objects:  10% (3/30)\u001b[K\rremote: Compressing objects:  13% (4/30)\u001b[K\rremote: Compressing objects:  16% (5/30)\u001b[K\rremote: Compressing objects:  20% (6/30)\u001b[K\rremote: Compressing objects:  23% (7/30)\u001b[K\rremote: Compressing objects:  26% (8/30)\u001b[K\rremote: Compressing objects:  30% (9/30)\u001b[K\rremote: Compressing objects:  33% (10/30)\u001b[K\rremote: Compressing objects:  36% (11/30)\u001b[K\rremote: Compressing objects:  40% (12/30)\u001b[K\rremote: Compressing objects:  43% (13/30)\u001b[K\rremote: Compressing objects:  46% (14/30)\u001b[K\rremote: Compressing objects:  50% (15/30)\u001b[K\rremote: Compressing objects:  53% (16/30)\u001b[K\rremote: Compressing objects:  56% (17/30)\u001b[K\rremote: Compressing objects:  60% (18/30)\u001b[K\rremote: Compressing objects:  63% (19/30)\u001b[K\rremote: Compressing objects:  66% (20/30)\u001b[K\rremote: Compressing objects:  70% (21/30)\u001b[K\rremote: Compressing objects:  73% (22/30)\u001b[K\rremote: Compressing objects:  76% (23/30)\u001b[K\rremote: Compressing objects:  80% (24/30)\u001b[K\rremote: Compressing objects:  83% (25/30)\u001b[K\rremote: Compressing objects:  86% (26/30)\u001b[K\rremote: Compressing objects:  90% (27/30)\u001b[K\rremote: Compressing objects:  93% (28/30)\u001b[K\rremote: Compressing objects:  96% (29/30)\u001b[K\rremote: Compressing objects: 100% (30/30)\u001b[K\rremote: Compressing objects: 100% (30/30), done.\u001b[K\n",
            "Unpacking objects:   2% (1/36)   \rUnpacking objects:   5% (2/36)   \rUnpacking objects:   8% (3/36)   \rUnpacking objects:  11% (4/36)   \rUnpacking objects:  13% (5/36)   \rUnpacking objects:  16% (6/36)   \rUnpacking objects:  19% (7/36)   \rUnpacking objects:  22% (8/36)   \rUnpacking objects:  25% (9/36)   \rUnpacking objects:  27% (10/36)   \rUnpacking objects:  30% (11/36)   \rUnpacking objects:  33% (12/36)   \rUnpacking objects:  36% (13/36)   \rUnpacking objects:  38% (14/36)   \rUnpacking objects:  41% (15/36)   \rUnpacking objects:  44% (16/36)   \rUnpacking objects:  47% (17/36)   \rUnpacking objects:  50% (18/36)   \rUnpacking objects:  52% (19/36)   \rUnpacking objects:  55% (20/36)   \rUnpacking objects:  58% (21/36)   \rUnpacking objects:  61% (22/36)   \rUnpacking objects:  63% (23/36)   \rUnpacking objects:  66% (24/36)   \rUnpacking objects:  69% (25/36)   \rremote: Total 36 (delta 14), reused 24 (delta 5), pack-reused 0\u001b[K\n",
            "Unpacking objects:  72% (26/36)   \rUnpacking objects:  75% (27/36)   \rUnpacking objects:  77% (28/36)   \rUnpacking objects:  80% (29/36)   \rUnpacking objects:  83% (30/36)   \rUnpacking objects:  86% (31/36)   \rUnpacking objects:  88% (32/36)   \rUnpacking objects:  91% (33/36)   \rUnpacking objects:  94% (34/36)   \rUnpacking objects:  97% (35/36)   \rUnpacking objects: 100% (36/36)   \rUnpacking objects: 100% (36/36), done.\n"
          ],
          "name": "stdout"
        }
      ]
    },
    {
      "cell_type": "code",
      "metadata": {
        "id": "n_WC2B9MllSf",
        "colab_type": "code",
        "outputId": "86118051-39ec-423a-918d-adfb5ef72067",
        "colab": {
          "base_uri": "https://localhost:8080/",
          "height": 35
        }
      },
      "source": [
        "cd CreateImageOverlaysandDepthMask"
      ],
      "execution_count": 3,
      "outputs": [
        {
          "output_type": "stream",
          "text": [
            "/content/CreateImageOverlaysandDepthMask\n"
          ],
          "name": "stdout"
        }
      ]
    },
    {
      "cell_type": "code",
      "metadata": {
        "id": "t5Z59ZmGoE0K",
        "colab_type": "code",
        "outputId": "fd0d896a-6cf5-4c26-e201-bf5e43d6b3d5",
        "colab": {
          "base_uri": "https://localhost:8080/",
          "height": 35
        }
      },
      "source": [
        "!git pull"
      ],
      "execution_count": 4,
      "outputs": [
        {
          "output_type": "stream",
          "text": [
            "Already up to date.\n"
          ],
          "name": "stdout"
        }
      ]
    },
    {
      "cell_type": "code",
      "metadata": {
        "id": "6wsNEeWTmyhg",
        "colab_type": "code",
        "colab": {}
      },
      "source": [
        "!mkdir NYU/weights"
      ],
      "execution_count": 0,
      "outputs": []
    },
    {
      "cell_type": "code",
      "metadata": {
        "id": "JO_Eoly3mD4h",
        "colab_type": "code",
        "outputId": "f34ebddd-0301-41fe-8f09-7eb09013d953",
        "colab": {
          "base_uri": "https://localhost:8080/",
          "height": 215
        }
      },
      "source": [
        "!wget https://s3-eu-west-1.amazonaws.com/densedepth/nyu.h5 -O ./NYU/weights/nyu.h5"
      ],
      "execution_count": 6,
      "outputs": [
        {
          "output_type": "stream",
          "text": [
            "--2020-05-06 03:15:13--  https://s3-eu-west-1.amazonaws.com/densedepth/nyu.h5\n",
            "Resolving s3-eu-west-1.amazonaws.com (s3-eu-west-1.amazonaws.com)... 52.218.112.35\n",
            "Connecting to s3-eu-west-1.amazonaws.com (s3-eu-west-1.amazonaws.com)|52.218.112.35|:443... connected.\n",
            "HTTP request sent, awaiting response... 200 OK\n",
            "Length: 172897376 (165M) [application/h5]\n",
            "Saving to: ‘./NYU/weights/nyu.h5’\n",
            "\n",
            "./NYU/weights/nyu.h 100%[===================>] 164.89M  11.3MB/s    in 17s     \n",
            "\n",
            "2020-05-06 03:15:30 (9.82 MB/s) - ‘./NYU/weights/nyu.h5’ saved [172897376/172897376]\n",
            "\n"
          ],
          "name": "stdout"
        }
      ]
    },
    {
      "cell_type": "code",
      "metadata": {
        "id": "qNMXB37pmEw4",
        "colab_type": "code",
        "outputId": "0e6a5658-0d9e-4632-9fa9-b244a2bd39bd",
        "colab": {
          "base_uri": "https://localhost:8080/",
          "height": 53
        }
      },
      "source": [
        "ls"
      ],
      "execution_count": 7,
      "outputs": [
        {
          "output_type": "stream",
          "text": [
            "CreateDepthMaskNYU.py  \u001b[0m\u001b[01;34mNYU\u001b[0m/              OverlayImageswithDepthMask.ipynb\n",
            "CreateMasks.py         OverlayImages.py  temp.png\n"
          ],
          "name": "stdout"
        }
      ]
    },
    {
      "cell_type": "code",
      "metadata": {
        "id": "HkulH_c6j8yp",
        "colab_type": "code",
        "outputId": "c98c62e0-2f1b-44bc-d3ff-4287a0f47369",
        "colab": {
          "base_uri": "https://localhost:8080/",
          "height": 35
        }
      },
      "source": [
        "import os\n",
        "from random import random\n",
        "from random import seed\n",
        "\n",
        "import cv2\n",
        "import numpy as np\n",
        "from PIL import Image\n",
        "from tqdm.notebook import tqdm\n",
        "\n",
        "from CreateDepthMaskNYU import CreateDepthMaskNYU\n",
        "import matplotlib.pyplot as plt\n",
        "from PIL import Image"
      ],
      "execution_count": 8,
      "outputs": [
        {
          "output_type": "stream",
          "text": [
            "Using TensorFlow backend.\n"
          ],
          "name": "stderr"
        }
      ]
    },
    {
      "cell_type": "code",
      "metadata": {
        "id": "rESLZ-nSkFTg",
        "colab_type": "code",
        "colab": {}
      },
      "source": [
        "model_path = r'./NYU/weights/nyu.h5'"
      ],
      "execution_count": 0,
      "outputs": []
    },
    {
      "cell_type": "code",
      "metadata": {
        "id": "L-ql64pmmS5Q",
        "colab_type": "code",
        "colab": {}
      },
      "source": [
        "bg_path = r'/content/gdrive/My Drive/Assignment/Background/Shelves_'\n",
        "fg_path = r'/content/gdrive/My Drive/Assignment/Foreground/People_'\n",
        "fg_mask_path = r'/content/gdrive/My Drive/Assignment/ForegroundMask/People_'\n",
        "\n",
        "fg_flip_path = r'/content/gdrive/My Drive/Assignment/flipForeground/People_'\n",
        "fg_mask_flip_path = r'/content/gdrive/My Drive/Assignment/flipForegroundMask/People_'\n",
        "\n",
        "final_output = r'/content/gdrive/My Drive/Images/OverlayedImages'\n",
        "final_output_mask = r'/content/gdrive/My Drive/Images/OverlayedMasks'\n",
        "final_output_dm = r'/content/gdrive/My Drive/Images//OverLayedDepthMasks'"
      ],
      "execution_count": 0,
      "outputs": []
    },
    {
      "cell_type": "code",
      "metadata": {
        "id": "oLB2KU-HkFbn",
        "colab_type": "code",
        "colab": {}
      },
      "source": [
        "fg_image_ext = '.png'\n",
        "fg_image_flip_ext = '_flip.png'\n",
        "bg_image_ext = '.png'\n",
        "final_image_ext = '.jpg'\n",
        "final_output_dm_ext = '.jpg'\n",
        "batch_images_count = 40000\n",
        "batch = 1\n",
        "batch_folder_name = 'batch_'"
      ],
      "execution_count": 0,
      "outputs": []
    },
    {
      "cell_type": "code",
      "metadata": {
        "id": "ByUABB0EkFnX",
        "colab_type": "code",
        "outputId": "508a3f9f-abca-4cbf-ebc1-48aec2420aca",
        "colab": {
          "base_uri": "https://localhost:8080/",
          "height": 71
        }
      },
      "source": [
        "depth_model = CreateDepthMaskNYU(model_path)"
      ],
      "execution_count": 12,
      "outputs": [
        {
          "output_type": "stream",
          "text": [
            "Loading model...\n",
            "\n",
            "Model loaded (./NYU/weights/nyu.h5).\n"
          ],
          "name": "stdout"
        }
      ]
    },
    {
      "cell_type": "code",
      "metadata": {
        "id": "gPUog0aTkTBI",
        "colab_type": "code",
        "outputId": "7362c5f3-2e24-4e78-b502-645245119be9",
        "colab": {
          "base_uri": "https://localhost:8080/",
          "height": 81,
          "referenced_widgets": [
            "b2a5feeccb00431393146ef3d84d7946",
            "0af530b2d2c04565b9590a786a3f1368",
            "92bf6193dd1e4f97be114acca36f265f",
            "1556b4cc624542cfbcdf0c6c40a644a0",
            "f716bc9c57b141239bb6766e5346d9c2",
            "7ec437ff20604da087473a90711a2c9a",
            "768fc761fc0e451484bb294e1636e30a",
            "6731f2fa044e4c758a85eb9768e1e5b8",
            "6fea4289fa37400da3e05bac67aa9cca",
            "7d2013c8bc864ecbaaa2e84f682e68ee",
            "b3703f8fe9904c52bd400f130ef551a1",
            "1e1358cd713e4ef7a69d6d0a995d721f",
            "ef6a4c46275442be9aa275ee5a4dd37e",
            "4d0a201a71d640128a3593071af41a62",
            "7281b6ed0a3f440d938b647a9f5ac815",
            "1ad05e45aade4a90a5e25ece9fd8eb91"
          ]
        }
      },
      "source": [
        "for x in tqdm(range(23, 24)):\n",
        "    seed(x)\n",
        "    init_x = int(np.floor(random() * 79))\n",
        "    init_y = int(np.floor(random() * 79))\n",
        "    dict_for_dm = {}\n",
        "\n",
        "    # if not x == 0 and x % 4 == 0:\n",
        "    #     batch += 1;\n",
        "\n",
        "    # if not x == 0:\n",
        "    #     batch += 1;\n",
        "\n",
        "    fg_img_path = final_output + os.path.sep + str(x)\n",
        "    if not os.path.exists(fg_img_path):\n",
        "        os.mkdir(fg_img_path)\n",
        "\n",
        "    fg_mask_img_path = final_output_mask + os.path.sep + str(x)\n",
        "    if not os.path.exists(fg_mask_img_path):\n",
        "        os.mkdir(fg_mask_img_path)\n",
        "\n",
        "    fg_dm_img_path = final_output_dm + os.path.sep + str(x)\n",
        "    if not os.path.exists(fg_dm_img_path):\n",
        "        os.mkdir(fg_dm_img_path)\n",
        "\n",
        "    for mx in tqdm(range(1, 101)):\n",
        "\n",
        "        # if len(dict_for_dm > 0):\n",
        "        #     depth_model.flush_depth_maps(dict_for_dm)\n",
        "        #     dict_for_dm = {}\n",
        "\n",
        "        overlay_file_path = \"{0}{1}{2}\".format(fg_path, str(mx), fg_image_ext)\n",
        "        overlay_file_mask_path = \"{0}{1}{2}\".format(fg_mask_path, os.path.sep, str(mx), fg_image_ext)\n",
        "\n",
        "        overlay = cv2.imread(overlay_file_path, cv2.IMREAD_UNCHANGED)\n",
        "        overlay_mask = cv2.imread(overlay_file_mask_path, cv2.IMREAD_UNCHANGED)\n",
        "\n",
        "        flip_overlay_path = \"{0}{1}{2}\".format(fg_flip_path, str(mx), fg_image_ext)\n",
        "        flip_overlay_mask_path = \"{0}{1}{2}\".format(fg_mask_flip_path, str(mx), fg_image_ext)\n",
        "\n",
        "        flip_overlay = cv2.imread(flip_overlay_path, cv2.IMREAD_UNCHANGED)\n",
        "        flip_overlay_mask = cv2.imread(flip_overlay_mask_path, cv2.IMREAD_UNCHANGED)\n",
        "\n",
        "        for k in (range(1, 101)):\n",
        "            bg_file_path = \"{0}{1}{2}\".format(bg_path, str(k), bg_image_ext)\n",
        "            background = cv2.imread(bg_file_path, cv2.IMREAD_COLOR)\n",
        "            empty_image = np.zeros((160, 160, 3), dtype=\"uint8\")\n",
        "\n",
        "            for i in range(init_x, init_x + overlay.shape[0]):\n",
        "                for j in range(init_y, init_y + overlay.shape[1]):\n",
        "                    if x < 20:\n",
        "                        if overlay[i - init_x, j - init_y, 3] != 0:\n",
        "                            background[i, j, 0:3] = overlay[i - init_x, j - init_y, 0:3]\n",
        "                    else:\n",
        "                        if flip_overlay[i - init_x, j - init_y, 3] != 0:\n",
        "                            background[i, j, 0:3] = flip_overlay[i - init_x, j - init_y, 0:3]\n",
        "\n",
        "            for ix in range(0, 3):\n",
        "                if x < 20:\n",
        "                    empty_image[init_x:init_x + overlay.shape[0], init_y:init_y + overlay.shape[1], ix] = overlay_mask[\n",
        "                                                                                                          0:\n",
        "                                                                                                          overlay.shape[\n",
        "                                                                                                              0],\n",
        "                                                                                                          0:\n",
        "                                                                                                          overlay.shape[\n",
        "                                                                                                              1]]\n",
        "                else:\n",
        "                    empty_image[init_x:init_x + overlay.shape[0], init_y:init_y + overlay.shape[1],\n",
        "                    ix] = flip_overlay_mask[\n",
        "                          0:\n",
        "                          overlay.shape[\n",
        "                              0],\n",
        "                          0:\n",
        "                          overlay.shape[\n",
        "                              1]]\n",
        "\n",
        "            final_image_path = fg_img_path + os.path.sep + 'combined_s' + str(k) + '_p' + str(mx) + '_it' + str(x) + final_image_ext\n",
        "            cv2.imwrite(final_image_path, background)\n",
        "\n",
        "            final_image_mask_path = fg_mask_img_path + os.path.sep + 'combined_s' + str(k) + '_p' + str(mx) + '_it' + str(x) \\\n",
        "                                    + final_image_ext\n",
        "\n",
        "            empty_image = cv2.cvtColor(empty_image, cv2.COLOR_BGR2GRAY)\n",
        "\n",
        "            cv2.imwrite(final_image_mask_path, empty_image)\n",
        "\n",
        "            final_image_dm_path = fg_dm_img_path + os.path.sep + 'combined_s' + str(k) + '_p' + str(mx) + '_it' + str(\n",
        "                x) + final_output_dm_ext\n",
        "\n",
        "            dict_for_dm[final_image_dm_path] = background\n",
        "\n",
        "            width = background.shape[1] * 2\n",
        "            height = background.shape[0] * 2\n",
        "            dim = (width, height)\n",
        "\n",
        "            # resize image\n",
        "            resized = cv2.resize(background, dim, interpolation=cv2.INTER_AREA)\n",
        "\n",
        "            cv2.imwrite('/content/CreateImageOverlaysandDepthMask/temp.png', resized)\n",
        "\n",
        "            dm = depth_model.get_depth_map(background, '/content/CreateImageOverlaysandDepthMask/temp.png', 1)\n",
        "\n",
        "            depth_model.save_dm_160(dm, final_image_dm_path)"
      ],
      "execution_count": 0,
      "outputs": [
        {
          "output_type": "display_data",
          "data": {
            "application/vnd.jupyter.widget-view+json": {
              "model_id": "b2a5feeccb00431393146ef3d84d7946",
              "version_minor": 0,
              "version_major": 2
            },
            "text/plain": [
              "HBox(children=(IntProgress(value=0, max=1), HTML(value='')))"
            ]
          },
          "metadata": {
            "tags": []
          }
        },
        {
          "output_type": "display_data",
          "data": {
            "application/vnd.jupyter.widget-view+json": {
              "model_id": "6fea4289fa37400da3e05bac67aa9cca",
              "version_minor": 0,
              "version_major": 2
            },
            "text/plain": [
              "HBox(children=(IntProgress(value=0), HTML(value='')))"
            ]
          },
          "metadata": {
            "tags": []
          }
        }
      ]
    },
    {
      "cell_type": "code",
      "metadata": {
        "id": "0zhTLjL_nE1Z",
        "colab_type": "code",
        "colab": {}
      },
      "source": [
        "drive.flush_and_unmount()"
      ],
      "execution_count": 0,
      "outputs": []
    }
  ]
}