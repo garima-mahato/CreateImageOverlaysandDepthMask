{
  "nbformat": 4,
  "nbformat_minor": 0,
  "metadata": {
    "colab": {
      "name": "OverlayImageswithDepthMask",
      "provenance": [],
      "collapsed_sections": [],
      "machine_shape": "hm",
      "authorship_tag": "ABX9TyMpxypGWTcPIn3v5jTRsCub",
      "include_colab_link": true
    },
    "kernelspec": {
      "name": "python3",
      "display_name": "Python 3"
    },
    "accelerator": "GPU",
    "widgets": {
      "application/vnd.jupyter.widget-state+json": {
        "d0f0177edc46417e9e5e7d0097b9d365": {
          "model_module": "@jupyter-widgets/controls",
          "model_name": "HBoxModel",
          "state": {
            "_view_name": "HBoxView",
            "_dom_classes": [],
            "_model_name": "HBoxModel",
            "_view_module": "@jupyter-widgets/controls",
            "_model_module_version": "1.5.0",
            "_view_count": null,
            "_view_module_version": "1.5.0",
            "box_style": "",
            "layout": "IPY_MODEL_1674163deb554a0db4a573bad4ef1c02",
            "_model_module": "@jupyter-widgets/controls",
            "children": [
              "IPY_MODEL_222d5d87d77549ac8598d292e63f9b9c",
              "IPY_MODEL_485cde1367234d84a6ecf5b8cb506ede"
            ]
          }
        },
        "1674163deb554a0db4a573bad4ef1c02": {
          "model_module": "@jupyter-widgets/base",
          "model_name": "LayoutModel",
          "state": {
            "_view_name": "LayoutView",
            "grid_template_rows": null,
            "right": null,
            "justify_content": null,
            "_view_module": "@jupyter-widgets/base",
            "overflow": null,
            "_model_module_version": "1.2.0",
            "_view_count": null,
            "flex_flow": null,
            "width": null,
            "min_width": null,
            "border": null,
            "align_items": null,
            "bottom": null,
            "_model_module": "@jupyter-widgets/base",
            "top": null,
            "grid_column": null,
            "overflow_y": null,
            "overflow_x": null,
            "grid_auto_flow": null,
            "grid_area": null,
            "grid_template_columns": null,
            "flex": null,
            "_model_name": "LayoutModel",
            "justify_items": null,
            "grid_row": null,
            "max_height": null,
            "align_content": null,
            "visibility": null,
            "align_self": null,
            "height": null,
            "min_height": null,
            "padding": null,
            "grid_auto_rows": null,
            "grid_gap": null,
            "max_width": null,
            "order": null,
            "_view_module_version": "1.2.0",
            "grid_template_areas": null,
            "object_position": null,
            "object_fit": null,
            "grid_auto_columns": null,
            "margin": null,
            "display": null,
            "left": null
          }
        },
        "222d5d87d77549ac8598d292e63f9b9c": {
          "model_module": "@jupyter-widgets/controls",
          "model_name": "IntProgressModel",
          "state": {
            "_view_name": "ProgressView",
            "style": "IPY_MODEL_210be2ef25e647c49758f7636a86181a",
            "_dom_classes": [],
            "description": "100%",
            "_model_name": "IntProgressModel",
            "bar_style": "success",
            "max": 1,
            "_view_module": "@jupyter-widgets/controls",
            "_model_module_version": "1.5.0",
            "value": 1,
            "_view_count": null,
            "_view_module_version": "1.5.0",
            "orientation": "horizontal",
            "min": 0,
            "description_tooltip": null,
            "_model_module": "@jupyter-widgets/controls",
            "layout": "IPY_MODEL_0ba99d644a8b4649987c9e6f27be1489"
          }
        },
        "485cde1367234d84a6ecf5b8cb506ede": {
          "model_module": "@jupyter-widgets/controls",
          "model_name": "HTMLModel",
          "state": {
            "_view_name": "HTMLView",
            "style": "IPY_MODEL_c5f8adb16b3247fd8d569f70ca3edfc7",
            "_dom_classes": [],
            "description": "",
            "_model_name": "HTMLModel",
            "placeholder": "​",
            "_view_module": "@jupyter-widgets/controls",
            "_model_module_version": "1.5.0",
            "value": " 1/1 [43:52&lt;00:00, 2632.09s/it]",
            "_view_count": null,
            "_view_module_version": "1.5.0",
            "description_tooltip": null,
            "_model_module": "@jupyter-widgets/controls",
            "layout": "IPY_MODEL_1e14e99a34f744888330091a23bc9594"
          }
        },
        "210be2ef25e647c49758f7636a86181a": {
          "model_module": "@jupyter-widgets/controls",
          "model_name": "ProgressStyleModel",
          "state": {
            "_view_name": "StyleView",
            "_model_name": "ProgressStyleModel",
            "description_width": "initial",
            "_view_module": "@jupyter-widgets/base",
            "_model_module_version": "1.5.0",
            "_view_count": null,
            "_view_module_version": "1.2.0",
            "bar_color": null,
            "_model_module": "@jupyter-widgets/controls"
          }
        },
        "0ba99d644a8b4649987c9e6f27be1489": {
          "model_module": "@jupyter-widgets/base",
          "model_name": "LayoutModel",
          "state": {
            "_view_name": "LayoutView",
            "grid_template_rows": null,
            "right": null,
            "justify_content": null,
            "_view_module": "@jupyter-widgets/base",
            "overflow": null,
            "_model_module_version": "1.2.0",
            "_view_count": null,
            "flex_flow": null,
            "width": null,
            "min_width": null,
            "border": null,
            "align_items": null,
            "bottom": null,
            "_model_module": "@jupyter-widgets/base",
            "top": null,
            "grid_column": null,
            "overflow_y": null,
            "overflow_x": null,
            "grid_auto_flow": null,
            "grid_area": null,
            "grid_template_columns": null,
            "flex": null,
            "_model_name": "LayoutModel",
            "justify_items": null,
            "grid_row": null,
            "max_height": null,
            "align_content": null,
            "visibility": null,
            "align_self": null,
            "height": null,
            "min_height": null,
            "padding": null,
            "grid_auto_rows": null,
            "grid_gap": null,
            "max_width": null,
            "order": null,
            "_view_module_version": "1.2.0",
            "grid_template_areas": null,
            "object_position": null,
            "object_fit": null,
            "grid_auto_columns": null,
            "margin": null,
            "display": null,
            "left": null
          }
        },
        "c5f8adb16b3247fd8d569f70ca3edfc7": {
          "model_module": "@jupyter-widgets/controls",
          "model_name": "DescriptionStyleModel",
          "state": {
            "_view_name": "StyleView",
            "_model_name": "DescriptionStyleModel",
            "description_width": "",
            "_view_module": "@jupyter-widgets/base",
            "_model_module_version": "1.5.0",
            "_view_count": null,
            "_view_module_version": "1.2.0",
            "_model_module": "@jupyter-widgets/controls"
          }
        },
        "1e14e99a34f744888330091a23bc9594": {
          "model_module": "@jupyter-widgets/base",
          "model_name": "LayoutModel",
          "state": {
            "_view_name": "LayoutView",
            "grid_template_rows": null,
            "right": null,
            "justify_content": null,
            "_view_module": "@jupyter-widgets/base",
            "overflow": null,
            "_model_module_version": "1.2.0",
            "_view_count": null,
            "flex_flow": null,
            "width": null,
            "min_width": null,
            "border": null,
            "align_items": null,
            "bottom": null,
            "_model_module": "@jupyter-widgets/base",
            "top": null,
            "grid_column": null,
            "overflow_y": null,
            "overflow_x": null,
            "grid_auto_flow": null,
            "grid_area": null,
            "grid_template_columns": null,
            "flex": null,
            "_model_name": "LayoutModel",
            "justify_items": null,
            "grid_row": null,
            "max_height": null,
            "align_content": null,
            "visibility": null,
            "align_self": null,
            "height": null,
            "min_height": null,
            "padding": null,
            "grid_auto_rows": null,
            "grid_gap": null,
            "max_width": null,
            "order": null,
            "_view_module_version": "1.2.0",
            "grid_template_areas": null,
            "object_position": null,
            "object_fit": null,
            "grid_auto_columns": null,
            "margin": null,
            "display": null,
            "left": null
          }
        },
        "a31b98a59f32437bad1c79bfcbe1137d": {
          "model_module": "@jupyter-widgets/controls",
          "model_name": "HBoxModel",
          "state": {
            "_view_name": "HBoxView",
            "_dom_classes": [],
            "_model_name": "HBoxModel",
            "_view_module": "@jupyter-widgets/controls",
            "_model_module_version": "1.5.0",
            "_view_count": null,
            "_view_module_version": "1.5.0",
            "box_style": "",
            "layout": "IPY_MODEL_e0fba702585d42d3a50d237258db17db",
            "_model_module": "@jupyter-widgets/controls",
            "children": [
              "IPY_MODEL_8e6c56268ae34604ba63b6db0396fbf0",
              "IPY_MODEL_aabdec4fd2f149e298bbeeed73e67b07"
            ]
          }
        },
        "e0fba702585d42d3a50d237258db17db": {
          "model_module": "@jupyter-widgets/base",
          "model_name": "LayoutModel",
          "state": {
            "_view_name": "LayoutView",
            "grid_template_rows": null,
            "right": null,
            "justify_content": null,
            "_view_module": "@jupyter-widgets/base",
            "overflow": null,
            "_model_module_version": "1.2.0",
            "_view_count": null,
            "flex_flow": null,
            "width": null,
            "min_width": null,
            "border": null,
            "align_items": null,
            "bottom": null,
            "_model_module": "@jupyter-widgets/base",
            "top": null,
            "grid_column": null,
            "overflow_y": null,
            "overflow_x": null,
            "grid_auto_flow": null,
            "grid_area": null,
            "grid_template_columns": null,
            "flex": null,
            "_model_name": "LayoutModel",
            "justify_items": null,
            "grid_row": null,
            "max_height": null,
            "align_content": null,
            "visibility": null,
            "align_self": null,
            "height": null,
            "min_height": null,
            "padding": null,
            "grid_auto_rows": null,
            "grid_gap": null,
            "max_width": null,
            "order": null,
            "_view_module_version": "1.2.0",
            "grid_template_areas": null,
            "object_position": null,
            "object_fit": null,
            "grid_auto_columns": null,
            "margin": null,
            "display": null,
            "left": null
          }
        },
        "8e6c56268ae34604ba63b6db0396fbf0": {
          "model_module": "@jupyter-widgets/controls",
          "model_name": "IntProgressModel",
          "state": {
            "_view_name": "ProgressView",
            "style": "IPY_MODEL_6cea4633398446c89933fa04317bf861",
            "_dom_classes": [],
            "description": "100%",
            "_model_name": "IntProgressModel",
            "bar_style": "success",
            "max": 100,
            "_view_module": "@jupyter-widgets/controls",
            "_model_module_version": "1.5.0",
            "value": 100,
            "_view_count": null,
            "_view_module_version": "1.5.0",
            "orientation": "horizontal",
            "min": 0,
            "description_tooltip": null,
            "_model_module": "@jupyter-widgets/controls",
            "layout": "IPY_MODEL_9aec9c14cfe74becbd4741199529cbca"
          }
        },
        "aabdec4fd2f149e298bbeeed73e67b07": {
          "model_module": "@jupyter-widgets/controls",
          "model_name": "HTMLModel",
          "state": {
            "_view_name": "HTMLView",
            "style": "IPY_MODEL_ef7dc5a3cc9548258c295e2806767208",
            "_dom_classes": [],
            "description": "",
            "_model_name": "HTMLModel",
            "placeholder": "​",
            "_view_module": "@jupyter-widgets/controls",
            "_model_module_version": "1.5.0",
            "value": " 100/100 [43:50&lt;00:00, 26.30s/it]",
            "_view_count": null,
            "_view_module_version": "1.5.0",
            "description_tooltip": null,
            "_model_module": "@jupyter-widgets/controls",
            "layout": "IPY_MODEL_bf8de6b16ee74a52b326a19531be9a88"
          }
        },
        "6cea4633398446c89933fa04317bf861": {
          "model_module": "@jupyter-widgets/controls",
          "model_name": "ProgressStyleModel",
          "state": {
            "_view_name": "StyleView",
            "_model_name": "ProgressStyleModel",
            "description_width": "initial",
            "_view_module": "@jupyter-widgets/base",
            "_model_module_version": "1.5.0",
            "_view_count": null,
            "_view_module_version": "1.2.0",
            "bar_color": null,
            "_model_module": "@jupyter-widgets/controls"
          }
        },
        "9aec9c14cfe74becbd4741199529cbca": {
          "model_module": "@jupyter-widgets/base",
          "model_name": "LayoutModel",
          "state": {
            "_view_name": "LayoutView",
            "grid_template_rows": null,
            "right": null,
            "justify_content": null,
            "_view_module": "@jupyter-widgets/base",
            "overflow": null,
            "_model_module_version": "1.2.0",
            "_view_count": null,
            "flex_flow": null,
            "width": null,
            "min_width": null,
            "border": null,
            "align_items": null,
            "bottom": null,
            "_model_module": "@jupyter-widgets/base",
            "top": null,
            "grid_column": null,
            "overflow_y": null,
            "overflow_x": null,
            "grid_auto_flow": null,
            "grid_area": null,
            "grid_template_columns": null,
            "flex": null,
            "_model_name": "LayoutModel",
            "justify_items": null,
            "grid_row": null,
            "max_height": null,
            "align_content": null,
            "visibility": null,
            "align_self": null,
            "height": null,
            "min_height": null,
            "padding": null,
            "grid_auto_rows": null,
            "grid_gap": null,
            "max_width": null,
            "order": null,
            "_view_module_version": "1.2.0",
            "grid_template_areas": null,
            "object_position": null,
            "object_fit": null,
            "grid_auto_columns": null,
            "margin": null,
            "display": null,
            "left": null
          }
        },
        "ef7dc5a3cc9548258c295e2806767208": {
          "model_module": "@jupyter-widgets/controls",
          "model_name": "DescriptionStyleModel",
          "state": {
            "_view_name": "StyleView",
            "_model_name": "DescriptionStyleModel",
            "description_width": "",
            "_view_module": "@jupyter-widgets/base",
            "_model_module_version": "1.5.0",
            "_view_count": null,
            "_view_module_version": "1.2.0",
            "_model_module": "@jupyter-widgets/controls"
          }
        },
        "bf8de6b16ee74a52b326a19531be9a88": {
          "model_module": "@jupyter-widgets/base",
          "model_name": "LayoutModel",
          "state": {
            "_view_name": "LayoutView",
            "grid_template_rows": null,
            "right": null,
            "justify_content": null,
            "_view_module": "@jupyter-widgets/base",
            "overflow": null,
            "_model_module_version": "1.2.0",
            "_view_count": null,
            "flex_flow": null,
            "width": null,
            "min_width": null,
            "border": null,
            "align_items": null,
            "bottom": null,
            "_model_module": "@jupyter-widgets/base",
            "top": null,
            "grid_column": null,
            "overflow_y": null,
            "overflow_x": null,
            "grid_auto_flow": null,
            "grid_area": null,
            "grid_template_columns": null,
            "flex": null,
            "_model_name": "LayoutModel",
            "justify_items": null,
            "grid_row": null,
            "max_height": null,
            "align_content": null,
            "visibility": null,
            "align_self": null,
            "height": null,
            "min_height": null,
            "padding": null,
            "grid_auto_rows": null,
            "grid_gap": null,
            "max_width": null,
            "order": null,
            "_view_module_version": "1.2.0",
            "grid_template_areas": null,
            "object_position": null,
            "object_fit": null,
            "grid_auto_columns": null,
            "margin": null,
            "display": null,
            "left": null
          }
        }
      }
    }
  },
  "cells": [
    {
      "cell_type": "markdown",
      "metadata": {
        "id": "view-in-github",
        "colab_type": "text"
      },
      "source": [
        "<a href=\"https://colab.research.google.com/github/csharpshooter/CreateImageOverlaysandDepthMask/blob/master/OverlayImageswithDepthMask.ipynb\" target=\"_parent\"><img src=\"https://colab.research.google.com/assets/colab-badge.svg\" alt=\"Open In Colab\"/></a>"
      ]
    },
    {
      "cell_type": "code",
      "metadata": {
        "id": "IEKQQ1xBllYf",
        "colab_type": "code",
        "colab": {
          "base_uri": "https://localhost:8080/",
          "height": 125
        },
        "outputId": "1be73514-6cf5-4084-fd96-3f87fffdf826"
      },
      "source": [
        "from google.colab import drive\n",
        "drive.mount('/content/gdrive')"
      ],
      "execution_count": 1,
      "outputs": [
        {
          "output_type": "stream",
          "text": [
            "Go to this URL in a browser: https://accounts.google.com/o/oauth2/auth?client_id=947318989803-6bn6qk8qdgf4n4g3pfee6491hc0brc4i.apps.googleusercontent.com&redirect_uri=urn%3aietf%3awg%3aoauth%3a2.0%3aoob&response_type=code&scope=email%20https%3a%2f%2fwww.googleapis.com%2fauth%2fdocs.test%20https%3a%2f%2fwww.googleapis.com%2fauth%2fdrive%20https%3a%2f%2fwww.googleapis.com%2fauth%2fdrive.photos.readonly%20https%3a%2f%2fwww.googleapis.com%2fauth%2fpeopleapi.readonly\n",
            "\n",
            "Enter your authorization code:\n",
            "··········\n",
            "Mounted at /content/gdrive\n"
          ],
          "name": "stdout"
        }
      ]
    },
    {
      "cell_type": "code",
      "metadata": {
        "id": "1oeXUPXwllKI",
        "colab_type": "code",
        "colab": {
          "base_uri": "https://localhost:8080/",
          "height": 122
        },
        "outputId": "cf163c4b-3b4c-4a6c-d903-44585b67c813"
      },
      "source": [
        "!git clone https://github.com/csharpshooter/CreateImageOverlaysandDepthMask.git"
      ],
      "execution_count": 2,
      "outputs": [
        {
          "output_type": "stream",
          "text": [
            "Cloning into 'CreateImageOverlaysandDepthMask'...\n",
            "remote: Enumerating objects: 36, done.\u001b[K\n",
            "remote: Counting objects: 100% (36/36), done.\u001b[K\n",
            "remote: Compressing objects: 100% (30/30), done.\u001b[K\n",
            "remote: Total 36 (delta 14), reused 24 (delta 5), pack-reused 0\u001b[K\n",
            "Unpacking objects: 100% (36/36), done.\n"
          ],
          "name": "stdout"
        }
      ]
    },
    {
      "cell_type": "code",
      "metadata": {
        "id": "n_WC2B9MllSf",
        "colab_type": "code",
        "colab": {
          "base_uri": "https://localhost:8080/",
          "height": 34
        },
        "outputId": "4a0ce370-cfd1-4253-98eb-3e4ed30ba4e8"
      },
      "source": [
        "cd CreateImageOverlaysandDepthMask"
      ],
      "execution_count": 3,
      "outputs": [
        {
          "output_type": "stream",
          "text": [
            "/content/CreateImageOverlaysandDepthMask\n"
          ],
          "name": "stdout"
        }
      ]
    },
    {
      "cell_type": "code",
      "metadata": {
        "id": "t5Z59ZmGoE0K",
        "colab_type": "code",
        "colab": {
          "base_uri": "https://localhost:8080/",
          "height": 34
        },
        "outputId": "2a927cf1-b6c2-4c2d-fa85-316098b92ae3"
      },
      "source": [
        "!git pull"
      ],
      "execution_count": 4,
      "outputs": [
        {
          "output_type": "stream",
          "text": [
            "Already up to date.\n"
          ],
          "name": "stdout"
        }
      ]
    },
    {
      "cell_type": "code",
      "metadata": {
        "id": "6wsNEeWTmyhg",
        "colab_type": "code",
        "colab": {}
      },
      "source": [
        "!mkdir NYU/weights"
      ],
      "execution_count": 0,
      "outputs": []
    },
    {
      "cell_type": "code",
      "metadata": {
        "id": "JO_Eoly3mD4h",
        "colab_type": "code",
        "colab": {
          "base_uri": "https://localhost:8080/",
          "height": 210
        },
        "outputId": "3b17dfba-1728-4d65-ba54-13ff92435a28"
      },
      "source": [
        "!wget https://s3-eu-west-1.amazonaws.com/densedepth/nyu.h5 -O ./NYU/weights/nyu.h5"
      ],
      "execution_count": 6,
      "outputs": [
        {
          "output_type": "stream",
          "text": [
            "--2020-05-06 03:15:13--  https://s3-eu-west-1.amazonaws.com/densedepth/nyu.h5\n",
            "Resolving s3-eu-west-1.amazonaws.com (s3-eu-west-1.amazonaws.com)... 52.218.60.75\n",
            "Connecting to s3-eu-west-1.amazonaws.com (s3-eu-west-1.amazonaws.com)|52.218.60.75|:443... connected.\n",
            "HTTP request sent, awaiting response... 200 OK\n",
            "Length: 172897376 (165M) [application/h5]\n",
            "Saving to: ‘./NYU/weights/nyu.h5’\n",
            "\n",
            "./NYU/weights/nyu.h 100%[===================>] 164.89M  11.7MB/s    in 16s     \n",
            "\n",
            "2020-05-06 03:15:30 (10.4 MB/s) - ‘./NYU/weights/nyu.h5’ saved [172897376/172897376]\n",
            "\n"
          ],
          "name": "stdout"
        }
      ]
    },
    {
      "cell_type": "code",
      "metadata": {
        "id": "qNMXB37pmEw4",
        "colab_type": "code",
        "colab": {
          "base_uri": "https://localhost:8080/",
          "height": 52
        },
        "outputId": "719fcc71-358d-4c45-8776-9eaab5288d2e"
      },
      "source": [
        "ls"
      ],
      "execution_count": 7,
      "outputs": [
        {
          "output_type": "stream",
          "text": [
            "CreateDepthMaskNYU.py  \u001b[0m\u001b[01;34mNYU\u001b[0m/              OverlayImageswithDepthMask.ipynb\n",
            "CreateMasks.py         OverlayImages.py  temp.png\n"
          ],
          "name": "stdout"
        }
      ]
    },
    {
      "cell_type": "code",
      "metadata": {
        "id": "HkulH_c6j8yp",
        "colab_type": "code",
        "colab": {
          "base_uri": "https://localhost:8080/",
          "height": 34
        },
        "outputId": "e01cb254-eaa8-4c6e-fe5e-98da1b777ef5"
      },
      "source": [
        "import os\n",
        "from random import random\n",
        "from random import seed\n",
        "\n",
        "import cv2\n",
        "import numpy as np\n",
        "from PIL import Image\n",
        "from tqdm.notebook import tqdm\n",
        "\n",
        "from CreateDepthMaskNYU import CreateDepthMaskNYU\n",
        "import matplotlib.pyplot as plt\n",
        "from PIL import Image"
      ],
      "execution_count": 8,
      "outputs": [
        {
          "output_type": "stream",
          "text": [
            "Using TensorFlow backend.\n"
          ],
          "name": "stderr"
        }
      ]
    },
    {
      "cell_type": "code",
      "metadata": {
        "id": "rESLZ-nSkFTg",
        "colab_type": "code",
        "colab": {}
      },
      "source": [
        "model_path = r'./NYU/weights/nyu.h5'"
      ],
      "execution_count": 0,
      "outputs": []
    },
    {
      "cell_type": "code",
      "metadata": {
        "id": "L-ql64pmmS5Q",
        "colab_type": "code",
        "colab": {}
      },
      "source": [
        "bg_path = r'/content/gdrive/My Drive/MaskRCNNDataset/Background'\n",
        "fg_path = r'/content/gdrive/My Drive/MaskRCNNDataset/Foreground'\n",
        "fg_mask_path = r'/content/gdrive/My Drive/MaskRCNNDataset/Foreground/masks'\n",
        "\n",
        "final_output = r'/content/gdrive/My Drive/MaskRCNNDataset/OverLayedImages'\n",
        "final_output_mask = r'/content/gdrive/My Drive/MaskRCNNDataset/OverLayedMask'\n",
        "final_output_dm = r'/content/gdrive/My Drive/MaskRCNNDataset/OverLayedDepthMasks'"
      ],
      "execution_count": 0,
      "outputs": []
    },
    {
      "cell_type": "code",
      "metadata": {
        "id": "oLB2KU-HkFbn",
        "colab_type": "code",
        "colab": {}
      },
      "source": [
        "fg_image_ext = '.png'\n",
        "fg_image_flip_ext = '_flip.png'\n",
        "bg_image_ext = '.jpg'\n",
        "final_image_ext = '.jpg'\n",
        "final_output_dm_ext = '.jpg'\n",
        "batch_images_count = 40000\n",
        "batch = 1\n",
        "batch_folder_name = 'batch_'"
      ],
      "execution_count": 0,
      "outputs": []
    },
    {
      "cell_type": "code",
      "metadata": {
        "id": "ByUABB0EkFnX",
        "colab_type": "code",
        "colab": {
          "base_uri": "https://localhost:8080/",
          "height": 70
        },
        "outputId": "21156144-a9cf-432c-9b74-0a50ce492211"
      },
      "source": [
        "depth_model = CreateDepthMaskNYU(model_path)"
      ],
      "execution_count": 12,
      "outputs": [
        {
          "output_type": "stream",
          "text": [
            "Loading model...\n",
            "\n",
            "Model loaded (./NYU/weights/nyu.h5).\n"
          ],
          "name": "stdout"
        }
      ]
    },
    {
      "cell_type": "code",
      "metadata": {
        "id": "gPUog0aTkTBI",
        "colab_type": "code",
        "colab": {
          "base_uri": "https://localhost:8080/",
          "height": 116,
          "referenced_widgets": [
            "d0f0177edc46417e9e5e7d0097b9d365",
            "1674163deb554a0db4a573bad4ef1c02",
            "222d5d87d77549ac8598d292e63f9b9c",
            "485cde1367234d84a6ecf5b8cb506ede",
            "210be2ef25e647c49758f7636a86181a",
            "0ba99d644a8b4649987c9e6f27be1489",
            "c5f8adb16b3247fd8d569f70ca3edfc7",
            "1e14e99a34f744888330091a23bc9594",
            "a31b98a59f32437bad1c79bfcbe1137d",
            "e0fba702585d42d3a50d237258db17db",
            "8e6c56268ae34604ba63b6db0396fbf0",
            "aabdec4fd2f149e298bbeeed73e67b07",
            "6cea4633398446c89933fa04317bf861",
            "9aec9c14cfe74becbd4741199529cbca",
            "ef7dc5a3cc9548258c295e2806767208",
            "bf8de6b16ee74a52b326a19531be9a88"
          ]
        },
        "outputId": "542e5ccf-e5b4-4f60-e419-c1f6aeeb315a"
      },
      "source": [
        "for x in tqdm(range(5, 6)):\n",
        "    seed(x)\n",
        "    init_x = int(np.floor(random() * 79))\n",
        "    init_y = int(np.floor(random() * 79))\n",
        "    dict_for_dm = {}\n",
        "\n",
        "    # if not x == 0 and x % 4 == 0:\n",
        "    #     batch += 1;\n",
        "\n",
        "    # if not x == 0:\n",
        "    batch = x + 1;\n",
        "\n",
        "    fg_img_path = final_output + os.path.sep + batch_folder_name + str(batch)\n",
        "    if not os.path.exists(fg_img_path):\n",
        "        os.mkdir(fg_img_path)\n",
        "\n",
        "    fg_mask_img_path = final_output_mask + os.path.sep + batch_folder_name + str(batch)\n",
        "    if not os.path.exists(fg_mask_img_path):\n",
        "        os.mkdir(fg_mask_img_path)\n",
        "\n",
        "    fg_dm_img_path = final_output_dm + os.path.sep + batch_folder_name + str(batch)\n",
        "    if not os.path.exists(fg_dm_img_path):\n",
        "        os.mkdir(fg_dm_img_path)\n",
        "\n",
        "    for mx in tqdm(range(1, 101)):\n",
        "\n",
        "        # if len(dict_for_dm > 0):\n",
        "        #     depth_model.flush_depth_maps(dict_for_dm)\n",
        "        #     dict_for_dm = {}\n",
        "\n",
        "        overlay_file_path = \"{0}{1}{2}{3}\".format(fg_path, os.path.sep, str(mx), fg_image_ext)\n",
        "        overlay_file_mask_path = \"{0}{1}{2}{3}\".format(fg_mask_path, os.path.sep, str(mx), fg_image_ext)\n",
        "\n",
        "        overlay = cv2.imread(overlay_file_path, cv2.IMREAD_UNCHANGED)\n",
        "        overlay_mask = cv2.imread(overlay_file_mask_path, cv2.IMREAD_UNCHANGED)\n",
        "\n",
        "        flip_overlay_path = \"{0}{1}{2}{3}\".format(fg_path, os.path.sep, str(mx), fg_image_flip_ext)\n",
        "        flip_overlay_mask_path = \"{0}{1}{2}{3}\".format(fg_mask_path, os.path.sep, str(mx), fg_image_flip_ext)\n",
        "\n",
        "        flip_overlay = cv2.imread(flip_overlay_path, cv2.IMREAD_UNCHANGED)\n",
        "        flip_overlay_mask = cv2.imread(flip_overlay_mask_path, cv2.IMREAD_UNCHANGED)\n",
        "\n",
        "        for k in (range(1, 101)):\n",
        "            bg_file_path = \"{0}{1}{2}{3}\".format(bg_path, os.path.sep, str(k), bg_image_ext)\n",
        "            background = cv2.imread(bg_file_path, cv2.IMREAD_UNCHANGED)\n",
        "            empty_image = np.zeros((224, 224, 3), dtype=\"uint8\")\n",
        "\n",
        "            for i in range(init_x, init_x + overlay.shape[0]):\n",
        "                for j in range(init_y, init_y + overlay.shape[1]):\n",
        "                    if x < 20:\n",
        "                        if overlay[i - init_x, j - init_y, 3] != 0:\n",
        "                            background[i, j, 0:3] = overlay[i - init_x, j - init_y, 0:3]\n",
        "                    else:\n",
        "                        if flip_overlay[i - init_x, j - init_y, 3] != 0:\n",
        "                            background[i, j, 0:3] = flip_overlay[i - init_x, j - init_y, 0:3]\n",
        "\n",
        "            for ix in range(0, 3):\n",
        "                if x < 20:\n",
        "                    empty_image[init_x:init_x + overlay.shape[0], init_y:init_y + overlay.shape[1], ix] = overlay_mask[\n",
        "                                                                                                          0:\n",
        "                                                                                                          overlay.shape[\n",
        "                                                                                                              0],\n",
        "                                                                                                          0:\n",
        "                                                                                                          overlay.shape[\n",
        "                                                                                                              1]]\n",
        "                else:\n",
        "                    empty_image[init_x:init_x + overlay.shape[0], init_y:init_y + overlay.shape[1],\n",
        "                    ix] = flip_overlay_mask[\n",
        "                          0:\n",
        "                          overlay.shape[\n",
        "                              0],\n",
        "                          0:\n",
        "                          overlay.shape[\n",
        "                              1]]\n",
        "\n",
        "            final_image_path = fg_img_path + os.path.sep + str(k) + '_p' + str(mx) + '_it' + str(x) + final_image_ext\n",
        "            cv2.imwrite(final_image_path, background)\n",
        "\n",
        "            final_image_mask_path = fg_mask_img_path + os.path.sep + str(k) + '_p' + str(mx) + '_it' + str(x) \\\n",
        "                                    + final_image_ext\n",
        "\n",
        "            empty_image = cv2.cvtColor(empty_image, cv2.COLOR_BGR2GRAY)\n",
        "\n",
        "            cv2.imwrite(final_image_mask_path, empty_image)\n",
        "\n",
        "            final_image_dm_path = fg_dm_img_path + os.path.sep + str(k) + '_p' + str(mx) + '_it' + str(\n",
        "                x) + final_output_dm_ext\n",
        "\n",
        "            dict_for_dm[final_image_dm_path] = background\n",
        "\n",
        "            width = background.shape[1] * 2\n",
        "            height = background.shape[0] * 2\n",
        "            dim = (width, height)\n",
        "\n",
        "            # resize image\n",
        "            resized = cv2.resize(background, dim, interpolation=cv2.INTER_AREA)\n",
        "\n",
        "            cv2.imwrite('/content/CreateImageOverlaysandDepthMask/temp.png', resized)\n",
        "\n",
        "            dm = depth_model.get_depth_map(resized, '/content/CreateImageOverlaysandDepthMask/temp.png', 1)\n",
        "\n",
        "            depth_model.save_dm(dm, final_image_dm_path)"
      ],
      "execution_count": 13,
      "outputs": [
        {
          "output_type": "display_data",
          "data": {
            "application/vnd.jupyter.widget-view+json": {
              "model_id": "d0f0177edc46417e9e5e7d0097b9d365",
              "version_minor": 0,
              "version_major": 2
            },
            "text/plain": [
              "HBox(children=(IntProgress(value=0, max=1), HTML(value='')))"
            ]
          },
          "metadata": {
            "tags": []
          }
        },
        {
          "output_type": "display_data",
          "data": {
            "application/vnd.jupyter.widget-view+json": {
              "model_id": "a31b98a59f32437bad1c79bfcbe1137d",
              "version_minor": 0,
              "version_major": 2
            },
            "text/plain": [
              "HBox(children=(IntProgress(value=0), HTML(value='')))"
            ]
          },
          "metadata": {
            "tags": []
          }
        },
        {
          "output_type": "stream",
          "text": [
            "\n",
            "\n"
          ],
          "name": "stdout"
        }
      ]
    },
    {
      "cell_type": "code",
      "metadata": {
        "id": "0zhTLjL_nE1Z",
        "colab_type": "code",
        "colab": {}
      },
      "source": [
        "drive.flush_and_unmount()"
      ],
      "execution_count": 0,
      "outputs": []
    }
  ]
}